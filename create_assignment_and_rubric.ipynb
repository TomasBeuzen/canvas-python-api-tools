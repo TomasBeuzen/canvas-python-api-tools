{
 "cells": [
  {
   "cell_type": "markdown",
   "metadata": {},
   "source": [
    "# Creating an assignment and rubric on Canvas with the API"
   ]
  },
  {
   "cell_type": "markdown",
   "metadata": {},
   "source": [
    "These tools were primarily developed to support my instruction of the University of British Columbia's Master of Data Science program."
   ]
  },
  {
   "cell_type": "code",
   "execution_count": 1,
   "metadata": {},
   "outputs": [],
   "source": [
    "import json\n",
    "import os\n",
    "from datetime import datetime, timedelta\n",
    "from canvasapi import Canvas"
   ]
  },
  {
   "cell_type": "markdown",
   "metadata": {},
   "source": [
    "## Creating Assignment"
   ]
  },
  {
   "cell_type": "code",
   "execution_count": null,
   "metadata": {},
   "outputs": [],
   "source": [
    "# UBC credentials\n",
    "# API_URL = \"https://canvas.ubc.ca/\"        # default is canvas.ubc\n",
    "# API_KEY = os.getenv(\"CANVAS_API\")         # canvas.ubc instructor token\n",
    "# COURSE_CODE = 53659                       # canvas 511 course code\n",
    "\n",
    "# Canvas Instructure Credentials\n",
    "API_URL = \"https://canvas.instructure.com/\" # default is canvas.ubc\n",
    "API_KEY = os.getenv(\"CANVAS_API_TEST_I\")    # canvas.instructure instructor token\n",
    "COURSE_CODE = 2313167                       # canvas instructure course code"
   ]
  },
  {
   "cell_type": "code",
   "execution_count": null,
   "metadata": {},
   "outputs": [],
   "source": [
    "canvas = Canvas(API_URL, API_KEY)\n",
    "course = canvas.get_course(COURSE_CODE)\n",
    "\n",
    "# our assignments are due the saturday after they are released\n",
    "next_saturday = datetime.now() + timedelta((5 - datetime.now().weekday()) % 7) # the 5 is \"Saturday\", 0 would be \"Monday\"\n",
    "assignment_due_date = datetime(year=next_saturday.year, month=next_saturday.month, day=next_saturday.day, hour=18, minute=5)            \n",
    "\n",
    "# create assignment\n",
    "new_assignment = course.create_assignment({\n",
    "    'name': 'Test Assignment',\n",
    "    'description': 'This is a test assignment',\n",
    "    'submission_types': ['online_upload'],\n",
    "    'allowed_extensions': ['html'],\n",
    "    'published': True,\n",
    "    'due_at': assignment_due_date\n",
    "})"
   ]
  },
  {
   "cell_type": "code",
   "execution_count": null,
   "metadata": {},
   "outputs": [],
   "source": [
    "# close assignment\n",
    "# new_assignment = new_assignment.edit(assignment={'due_at': datetime.datetime.now()})  # allows late submissions\n",
    "# new_assignment = new_assignment.edit(assignment={'lock_at': datetime.datetime.now()})  # no late submissions"
   ]
  },
  {
   "cell_type": "code",
   "execution_count": null,
   "metadata": {},
   "outputs": [],
   "source": [
    "# delete assignment\n",
    "# new_assignment.delete();"
   ]
  },
  {
   "cell_type": "markdown",
   "metadata": {},
   "source": [
    "## Creating a Rubric for the assignment"
   ]
  },
  {
   "cell_type": "markdown",
   "metadata": {},
   "source": [
    "#### Load weights.json"
   ]
  },
  {
   "cell_type": "markdown",
   "metadata": {},
   "source": [
    "- We generate .json file that contain the rubric for grading our assignments\n",
    "- They look like this:"
   ]
  },
  {
   "cell_type": "code",
   "execution_count": 2,
   "metadata": {},
   "outputs": [
    {
     "data": {
      "text/plain": [
       "{'Instructions': {'Mechanics': 2, 'Spark (bonus)': 1},\n",
       " '1.1': {'Autograde': 1, 'Spark (bonus)': 1},\n",
       " '1.2': {'Autograde': 1, 'Spark (bonus)': 1},\n",
       " '1.3': {'Autograde': 1, 'Spark (bonus)': 1},\n",
       " '1.4': {'Autograde': 1, 'Spark (bonus)': 1},\n",
       " '2.1': {'Accuracy': 1, 'Spark (bonus)': 1},\n",
       " '2.2': {'Accuracy': 1, 'Spark (bonus)': 1},\n",
       " '2.3': {'Accuracy': 1, 'Spark (bonus)': 1},\n",
       " '3.1': {'Autograde': 1, 'Spark (bonus)': 1},\n",
       " '3.2': {'Autograde': 1, 'Spark (bonus)': 1},\n",
       " 'Exercise 4: Making Sushi': {'Autograde': 1, 'Spark (bonus)': 1},\n",
       " '5.1': {'Autograde': 1, 'Spark (bonus)': 1},\n",
       " '5.2': {'Autograde': 1, 'Spark (bonus)': 1},\n",
       " '5.3': {'Autograde': 1, 'Spark (bonus)': 1},\n",
       " '6.1': {'Accuracy': 1, 'Quality': 1, 'Spark (bonus)': 1},\n",
       " '6.2': {'Accuracy': 2, 'Quality': 2, 'Spark (bonus)': 1},\n",
       " 'Exercise 7: Simulating a Random Walk in 2D': {'Accuracy': 3,\n",
       "  'Quality': 3,\n",
       "  'Spark (bonus)': 1},\n",
       " '(Optional) Exercise 8: Integer Division': {'Reasoning': 1,\n",
       "  'Spark (bonus)': 1,\n",
       "  'is_bonus': True}}"
      ]
     },
     "execution_count": 2,
     "metadata": {},
     "output_type": "execute_result"
    }
   ],
   "source": [
    "with open('example_data/weights.json') as f:\n",
    "    weights = json.load(f)\n",
    "weights"
   ]
  },
  {
   "cell_type": "code",
   "execution_count": 3,
   "metadata": {},
   "outputs": [],
   "source": [
    "# These are hard-wired grade ranges\n",
    "UBC_LETTER_GRADES = {\n",
    "    (90,100): \"A+\",\n",
    "    (85,89) : \"A\",\n",
    "    (80,84) : \"A-\",\n",
    "    (76,79) : \"B+\",\n",
    "    (72,75) : \"B\",\n",
    "    (68,71) : \"B-\",\n",
    "    (64,67) : \"C+\",\n",
    "    (60,63) : \"C\",\n",
    "    (55,59) : \"C-\",\n",
    "    (50,54) : \"D\",\n",
    "    (0,49)  : \"F\"\n",
    "}"
   ]
  },
  {
   "cell_type": "code",
   "execution_count": 4,
   "metadata": {},
   "outputs": [
    {
     "ename": "NameError",
     "evalue": "name 'new_assignment' is not defined",
     "output_type": "error",
     "traceback": [
      "\u001b[0;31m---------------------------------------------------------------------------\u001b[0m",
      "\u001b[0;31mNameError\u001b[0m                                 Traceback (most recent call last)",
      "\u001b[0;32m<ipython-input-4-53944b2945a9>\u001b[0m in \u001b[0;36m<module>\u001b[0;34m\u001b[0m\n\u001b[1;32m     38\u001b[0m \u001b[0;31m# rubric_association = {'association_id': 53659,\u001b[0m\u001b[0;34m\u001b[0m\u001b[0;34m\u001b[0m\u001b[0;34m\u001b[0m\u001b[0m\n\u001b[1;32m     39\u001b[0m \u001b[0;31m#                       'association_type': 'Course'} # associate rubric with a course (dont link to an assignment)\u001b[0m\u001b[0;34m\u001b[0m\u001b[0;34m\u001b[0m\u001b[0;34m\u001b[0m\u001b[0m\n\u001b[0;32m---> 40\u001b[0;31m rubric_association = {'association_id': new_assignment.id,\n\u001b[0m\u001b[1;32m     41\u001b[0m                       \u001b[0;34m'association_type'\u001b[0m\u001b[0;34m:\u001b[0m \u001b[0;34m'Assignment'\u001b[0m\u001b[0;34m,\u001b[0m\u001b[0;34m\u001b[0m\u001b[0;34m\u001b[0m\u001b[0m\n\u001b[1;32m     42\u001b[0m                       \u001b[0;34m'use_for_grading'\u001b[0m\u001b[0;34m:\u001b[0m \u001b[0;34m'true'\u001b[0m\u001b[0;34m,\u001b[0m\u001b[0;34m\u001b[0m\u001b[0;34m\u001b[0m\u001b[0m\n",
      "\u001b[0;31mNameError\u001b[0m: name 'new_assignment' is not defined"
     ]
    }
   ],
   "source": [
    "# Interacting with the API is a nightmare\n",
    "# We need to create hased dictionaries where the keys are indexed from 0\n",
    "# Read more here: https://community.canvaslms.com/t5/Developers-Group/Link-an-outcome-to-a-rubric-via-the-API/td-p/124545\n",
    "\n",
    "canvas_rubric = {'title': 'Test Rubrics',\n",
    "                 'free_form_criteria_comments': 'false'}\n",
    "criteria = []\n",
    "total_grades = 0\n",
    "autograde_grades = 0\n",
    "UBC_LETTER_GRADES[(0, 0)] =  \"No points\"\n",
    "for exercise, rubrics in weights.items():\n",
    "    for rubric, value in rubrics.items():\n",
    "        if all(_ not in rubric.lower() for _ in [\"spark\", \"bonus\"]):\n",
    "            if rubric.lower() == 'autograde':\n",
    "                autograde_grades += value\n",
    "            else:\n",
    "                ratings = [{'description': letter, 'points': round(sum(grade_range)/ 2 / 100 * value, 2)} \\\n",
    "                           for grade_range, letter in UBC_LETTER_GRADES.items()]\n",
    "                ratings = dict(zip(range(len(ratings)), ratings))\n",
    "                criteria.append({'description': f\"{exercise}: {rubric}\",\n",
    "                     'long_description': 'Rubric descriptions can be found here: https://github.com/UBC-MDS/public/tree/master/rubric.',\n",
    "                     'points': value,\n",
    "                     'criterion_use_range': False,\n",
    "                     'ratings': ratings\n",
    "                    })\n",
    "            total_grades += value if 'is_bonus' not in rubrics.keys() else 0\n",
    "# I want to group all my autograded questions into one place which is why I do this, but others can remove this            \n",
    "if autograde_grades:\n",
    "    ratings = [{'description': 'Points', 'points': autograde_grades},\n",
    "               {'description': 'No points', 'points': 0.0}]\n",
    "    ratings = dict(zip(range(len(ratings)), ratings))\n",
    "    criteria.append({'description': \"Autograded Exercises\",\n",
    "         'long_description': 'Check the autograde score in the assignment.',\n",
    "         'points': autograde_grades,\n",
    "         'criterion_use_range': True,\n",
    "         'ratings': ratings\n",
    "        })\n",
    "canvas_rubric['criteria'] = dict(zip(range(len(criteria)), criteria))\n",
    "# Associate the rubric with the course or a specific assignment\n",
    "# rubric_association = {'association_id': 53659,\n",
    "#                       'association_type': 'Course'} # associate rubric with a course (dont link to an assignment)\n",
    "rubric_association = {'association_id': new_assignment.id,\n",
    "                      'association_type': 'Assignment',\n",
    "                      'use_for_grading': 'true',\n",
    "                      'hide_score_total': 'false',\n",
    "                      'purpose': 'grading'} # associate with an assignment"
   ]
  },
  {
   "cell_type": "code",
   "execution_count": null,
   "metadata": {},
   "outputs": [],
   "source": [
    "new_rubric = course.create_rubric(rubric=canvas_rubric,\n",
    "                                  rubric_association=rubric_association)"
   ]
  },
  {
   "cell_type": "code",
   "execution_count": null,
   "metadata": {},
   "outputs": [],
   "source": [
    "updated_assignment = new_assignment.edit(assignment={'points_possible': total_grades})"
   ]
  }
 ],
 "metadata": {
  "kernelspec": {
   "display_name": "Python 3",
   "language": "python",
   "name": "python3"
  },
  "language_info": {
   "codemirror_mode": {
    "name": "ipython",
    "version": 3
   },
   "file_extension": ".py",
   "mimetype": "text/x-python",
   "name": "python",
   "nbconvert_exporter": "python",
   "pygments_lexer": "ipython3",
   "version": "3.7.8"
  },
  "toc": {
   "base_numbering": 1,
   "nav_menu": {},
   "number_sections": true,
   "sideBar": true,
   "skip_h1_title": true,
   "title_cell": "Table of Contents",
   "title_sidebar": "Contents",
   "toc_cell": false,
   "toc_position": {},
   "toc_section_display": true,
   "toc_window_display": true
  },
  "toc-autonumbering": false
 },
 "nbformat": 4,
 "nbformat_minor": 4
}
