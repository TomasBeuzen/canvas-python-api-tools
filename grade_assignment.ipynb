{
 "cells": [
  {
   "cell_type": "markdown",
   "metadata": {},
   "source": [
    "# Grading an assignment on Canvas with the API"
   ]
  },
  {
   "cell_type": "markdown",
   "metadata": {},
   "source": [
    "These tools were primarily developed to support my instruction of the University of British Columbia's Master of Data Science program."
   ]
  },
  {
   "cell_type": "code",
   "execution_count": 1,
   "metadata": {},
   "outputs": [],
   "source": [
    "import json\n",
    "import os\n",
    "from datetime import datetime, timedelta\n",
    "from canvasapi import Canvas\n",
    "import requests\n",
    "import re\n",
    "from tqdm import tqdm"
   ]
  },
  {
   "cell_type": "code",
   "execution_count": 4,
   "metadata": {},
   "outputs": [],
   "source": [
    "API_URL = \"https://canvas.ubc.ca/\" # default is canvas.ubc\n",
    "API_KEY = os.getenv(\"CANVAS_API\")  # canvas.ubc instructor token\n",
    "COURSE_CODE = 53659\n",
    "canvas = Canvas(API_URL, API_KEY)\n",
    "course = canvas.get_course(COURSE_CODE)"
   ]
  },
  {
   "cell_type": "markdown",
   "metadata": {},
   "source": [
    "- Find the id of the assignment we want to grade:"
   ]
  },
  {
   "cell_type": "code",
   "execution_count": 41,
   "metadata": {},
   "outputs": [
    {
     "data": {
      "text/plain": [
       "[('lab1', 664385), ('lab2', 680571)]"
      ]
     },
     "execution_count": 41,
     "metadata": {},
     "output_type": "execute_result"
    }
   ],
   "source": [
    "[(_.name, _.id) for _ in course.get_assignments()]"
   ]
  },
  {
   "cell_type": "markdown",
   "metadata": {},
   "source": [
    "- Use the desired id to retrieve the assignment and save it as `assignment`"
   ]
  },
  {
   "cell_type": "code",
   "execution_count": 6,
   "metadata": {},
   "outputs": [],
   "source": [
    "assignment = course.get_assignment(664385)"
   ]
  },
  {
   "cell_type": "markdown",
   "metadata": {},
   "source": [
    "- Okay, now we want to extract the autograde from every assignment, and upload it to Canvas.\n",
    "- In the assignments, I've added an \"autograde cell\" which runs all tests and prints out \"Autograde points: n / total\"\n",
    "- So I'm downloading every submission, using regex to extract that `n`, and then uploading\n",
    "- Each submission for an assignment has a method `.edit()`, we can pass in a dictionary of the form: `{rubric_id: {\"points\": n}}`, where `rubric_id` is the id of the rubric element/row you want to update (you can look at all the id's with `assignment.rubric`.\n",
    "- I'm catching any students who didn't run the cell or didn't submit\n",
    "- As always, interacting with the canvas api is a little yucky here, but once you get it working it's a time-saver!"
   ]
  },
  {
   "cell_type": "code",
   "execution_count": null,
   "metadata": {},
   "outputs": [
    {
     "name": "stderr",
     "output_type": "stream",
     "text": [
      " 15%|█▍        | 20/136 [00:42<04:18,  2.23s/it]"
     ]
    }
   ],
   "source": [
    "no_submission = []\n",
    "user_dict = {_.id: _.name for _ in course.get_users()}\n",
    "\n",
    "for _ in assignment.rubric:\n",
    "    if \"Autograded Exercises\" in _.values():\n",
    "        autograde_rubric_id = assignment.rubric[-1]['id']\n",
    "\n",
    "for ass in tqdm([_ for _ in assignment.get_submissions()]):\n",
    "    crit_grade_comments = {}\n",
    "    if ass.submission_type:\n",
    "        with requests.session() as s:\n",
    "            html = s.get(ass.attachments[0]['url']).text\n",
    "            try:\n",
    "                score = int(re.findall(r'Autograde points: (\\d) / \\d', html)[0])\n",
    "            except:\n",
    "                no_submission.append(user_dict[ass.user_id])\n",
    "            crit_grade_comments[autograde_rubric_id] = {\"points\": str(score)}\n",
    "            ass.edit(rubric_assessment=crit_grade_comments)\n",
    "    else:\n",
    "        no_submission.append(user_dict[ass.user_id])"
   ]
  }
 ],
 "metadata": {
  "kernelspec": {
   "display_name": "Python 3",
   "language": "python",
   "name": "python3"
  },
  "language_info": {
   "codemirror_mode": {
    "name": "ipython",
    "version": 3
   },
   "file_extension": ".py",
   "mimetype": "text/x-python",
   "name": "python",
   "nbconvert_exporter": "python",
   "pygments_lexer": "ipython3",
   "version": "3.7.8"
  },
  "toc": {
   "base_numbering": 1,
   "nav_menu": {},
   "number_sections": true,
   "sideBar": true,
   "skip_h1_title": true,
   "title_cell": "Table of Contents",
   "title_sidebar": "Contents",
   "toc_cell": false,
   "toc_position": {},
   "toc_section_display": true,
   "toc_window_display": true
  },
  "toc-autonumbering": false
 },
 "nbformat": 4,
 "nbformat_minor": 4
}
